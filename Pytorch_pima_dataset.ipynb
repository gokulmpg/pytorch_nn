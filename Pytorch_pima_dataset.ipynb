{
 "cells": [
  {
   "cell_type": "code",
   "execution_count": 1,
   "id": "dd8d80ab",
   "metadata": {},
   "outputs": [],
   "source": [
    "import pandas as pd\n",
    "import numpy as np\n",
    "import torch"
   ]
  },
  {
   "cell_type": "code",
   "execution_count": 2,
   "id": "bf2f6618",
   "metadata": {},
   "outputs": [],
   "source": [
    "df = pd.read_csv('diabetes.csv')"
   ]
  },
  {
   "cell_type": "code",
   "execution_count": 11,
   "id": "36a36b55",
   "metadata": {},
   "outputs": [],
   "source": [
    "import seaborn as sns\n",
    "\n",
    "#### Libs from pytorch\n",
    "\n",
    "\n",
    "\n",
    "import torch.nn as nn\n",
    "import torch.nn.functional as F\n",
    "\n"
   ]
  },
  {
   "cell_type": "code",
   "execution_count": 4,
   "id": "f1607ccf",
   "metadata": {},
   "outputs": [],
   "source": [
    "from sklearn.model_selection import train_test_split"
   ]
  },
  {
   "cell_type": "code",
   "execution_count": 9,
   "id": "cba6219c",
   "metadata": {},
   "outputs": [],
   "source": [
    "X = df.drop('Outcome',axis = 1).values\n",
    "\n",
    "y = df['Outcome'].values"
   ]
  },
  {
   "cell_type": "code",
   "execution_count": 60,
   "id": "f18deecf",
   "metadata": {},
   "outputs": [],
   "source": [
    "X_train , X_test , y_train, y_test = train_test_split(X,y,test_size = 0.2,random_state= 0)"
   ]
  },
  {
   "cell_type": "code",
   "execution_count": 61,
   "id": "0e01c9ac",
   "metadata": {},
   "outputs": [],
   "source": [
    "#### creating tensors\n",
    "\n",
    "X_train = torch.FloatTensor(X_train)\n",
    "X_test = torch.FloatTensor(X_test)\n",
    "y_train = torch.LongTensor(y_train)\n",
    "y_test = torch.LongTensor(y_test)\n"
   ]
  },
  {
   "cell_type": "code",
   "execution_count": 62,
   "id": "4058ac67",
   "metadata": {},
   "outputs": [],
   "source": [
    "### model with pytorch\n",
    "\n",
    "\n",
    "class AA_Model(nn.Module):\n",
    "    def __init__(self,input_features=8,hidden1=20,hidden2= 20, out_features =2):\n",
    "        super().__init__()\n",
    "        self.f_connected1= nn.Linear(input_features,hidden1)\n",
    "        self.f_connected2= nn.Linear(hidden1,hidden2)\n",
    "        self.out = nn.Linear(hidden2,out_features)\n",
    "    def forward(self,x):\n",
    "        x = F.relu(self.f_connected1(x))\n",
    "        x = F.relu(self.f_connected2(x))\n",
    "        x = self.out(x)\n",
    "        return x"
   ]
  },
  {
   "cell_type": "code",
   "execution_count": 63,
   "id": "b29770e9",
   "metadata": {},
   "outputs": [],
   "source": [
    "### instantiate my ANN_model\n",
    "torch.manual_seed(20)\n",
    "model = AA_Model()"
   ]
  },
  {
   "cell_type": "code",
   "execution_count": 64,
   "id": "c91f43a2",
   "metadata": {},
   "outputs": [
    {
     "data": {
      "text/plain": [
       "<bound method Module.parameters of AA_Model(\n",
       "  (f_connected1): Linear(in_features=8, out_features=20, bias=True)\n",
       "  (f_connected2): Linear(in_features=20, out_features=20, bias=True)\n",
       "  (out): Linear(in_features=20, out_features=2, bias=True)\n",
       ")>"
      ]
     },
     "execution_count": 64,
     "metadata": {},
     "output_type": "execute_result"
    }
   ],
   "source": [
    "model.parameters"
   ]
  },
  {
   "cell_type": "code",
   "execution_count": 65,
   "id": "7fbf1622",
   "metadata": {},
   "outputs": [],
   "source": [
    "### backward Progation\n",
    "# define loss func and aoptimizer\n",
    "\n",
    "loss_func = nn.CrossEntropyLoss()\n",
    "optimizer = torch.optim.Adam(model.parameters(),lr=0.01)"
   ]
  },
  {
   "cell_type": "code",
   "execution_count": 68,
   "id": "c2e0d446",
   "metadata": {},
   "outputs": [
    {
     "name": "stdout",
     "output_type": "stream",
     "text": [
      "Epochs  numbers: 1 and the lsoss : 0.3628762662410736\n",
      "Epochs  numbers: 11 and the lsoss : 0.3577205538749695\n",
      "Epochs  numbers: 21 and the lsoss : 0.35645097494125366\n",
      "Epochs  numbers: 31 and the lsoss : 0.3525201082229614\n",
      "Epochs  numbers: 41 and the lsoss : 0.3493729531764984\n",
      "Epochs  numbers: 51 and the lsoss : 0.39238831400871277\n",
      "Epochs  numbers: 61 and the lsoss : 0.3878645598888397\n",
      "Epochs  numbers: 71 and the lsoss : 0.35813960433006287\n",
      "Epochs  numbers: 81 and the lsoss : 0.3478778898715973\n",
      "Epochs  numbers: 91 and the lsoss : 0.35813280940055847\n",
      "Epochs  numbers: 101 and the lsoss : 0.3822939395904541\n",
      "Epochs  numbers: 111 and the lsoss : 0.3712691366672516\n",
      "Epochs  numbers: 121 and the lsoss : 0.33803582191467285\n",
      "Epochs  numbers: 131 and the lsoss : 0.3353152573108673\n",
      "Epochs  numbers: 141 and the lsoss : 0.33819887042045593\n",
      "Epochs  numbers: 151 and the lsoss : 0.38261356949806213\n",
      "Epochs  numbers: 161 and the lsoss : 0.3812277615070343\n",
      "Epochs  numbers: 171 and the lsoss : 0.3374270796775818\n",
      "Epochs  numbers: 181 and the lsoss : 0.32645082473754883\n",
      "Epochs  numbers: 191 and the lsoss : 0.3244442045688629\n",
      "Epochs  numbers: 201 and the lsoss : 0.32141539454460144\n",
      "Epochs  numbers: 211 and the lsoss : 0.31890517473220825\n",
      "Epochs  numbers: 221 and the lsoss : 0.3346748948097229\n",
      "Epochs  numbers: 231 and the lsoss : 0.31742388010025024\n",
      "Epochs  numbers: 241 and the lsoss : 0.3389888107776642\n",
      "Epochs  numbers: 251 and the lsoss : 0.34649643301963806\n",
      "Epochs  numbers: 261 and the lsoss : 0.31112927198410034\n",
      "Epochs  numbers: 271 and the lsoss : 0.3243393003940582\n",
      "Epochs  numbers: 281 and the lsoss : 0.31023675203323364\n",
      "Epochs  numbers: 291 and the lsoss : 0.31165993213653564\n",
      "Epochs  numbers: 301 and the lsoss : 0.3032591640949249\n",
      "Epochs  numbers: 311 and the lsoss : 0.4968242943286896\n",
      "Epochs  numbers: 321 and the lsoss : 0.3286522924900055\n",
      "Epochs  numbers: 331 and the lsoss : 0.30657514929771423\n",
      "Epochs  numbers: 341 and the lsoss : 0.30393511056900024\n",
      "Epochs  numbers: 351 and the lsoss : 0.29988160729408264\n",
      "Epochs  numbers: 361 and the lsoss : 0.29493090510368347\n",
      "Epochs  numbers: 371 and the lsoss : 0.29195961356163025\n",
      "Epochs  numbers: 381 and the lsoss : 0.28934329748153687\n",
      "Epochs  numbers: 391 and the lsoss : 0.28724196553230286\n",
      "Epochs  numbers: 401 and the lsoss : 0.4456290602684021\n",
      "Epochs  numbers: 411 and the lsoss : 0.3816179633140564\n",
      "Epochs  numbers: 421 and the lsoss : 0.31529635190963745\n",
      "Epochs  numbers: 431 and the lsoss : 0.2913317382335663\n",
      "Epochs  numbers: 441 and the lsoss : 0.28393813967704773\n",
      "Epochs  numbers: 451 and the lsoss : 0.280337929725647\n",
      "Epochs  numbers: 461 and the lsoss : 0.2766285538673401\n",
      "Epochs  numbers: 471 and the lsoss : 0.27475881576538086\n",
      "Epochs  numbers: 481 and the lsoss : 0.2727777361869812\n",
      "Epochs  numbers: 491 and the lsoss : 0.2712618112564087\n"
     ]
    }
   ],
   "source": [
    "epochs = 500\n",
    "\n",
    "final_losses =[]\n",
    "for i in range(epochs):\n",
    "        i = i +1\n",
    "        y_pred= model.forward(X_train)\n",
    "        loss=loss_func(y_pred,y_train)\n",
    "        final_losses.append(loss)\n",
    "        if i%10 == 1:\n",
    "            print(\"Epochs  numbers: {} and the lsoss : {}\".format(i, loss.item()))\n",
    "        optimizer.zero_grad()\n",
    "        loss.backward()\n",
    "        optimizer.step()"
   ]
  },
  {
   "cell_type": "code",
   "execution_count": 72,
   "id": "02e5829c",
   "metadata": {},
   "outputs": [],
   "source": [
    "import  matplotlib.pyplot as plt\n",
    "\n",
    "%matplotlib  inline"
   ]
  },
  {
   "cell_type": "code",
   "execution_count": 73,
   "id": "26a6a5e2",
   "metadata": {},
   "outputs": [
    {
     "data": {
      "text/plain": [
       "Text(0.5, 0, 'Epochs')"
      ]
     },
     "execution_count": 73,
     "metadata": {},
     "output_type": "execute_result"
    },
    {
     "data": {
      "image/png": "[encoded data removed]",
      "text/plain": [
       "<Figure size 640x480 with 1 Axes>"
      ]
     },
     "metadata": {},
     "output_type": "display_data"
    }
   ],
   "source": [
    "plt.plot(range(epochs), final_losses)\n",
    "\n",
    "plt.ylabel('loss')\n",
    "plt.xlabel('Epochs')"
   ]
  },
  {
   "cell_type": "code",
   "execution_count": 78,
   "id": "b07b4788",
   "metadata": {},
   "outputs": [
    {
     "name": "stdout",
     "output_type": "stream",
     "text": [
      "1\n",
      "0\n",
      "0\n",
      "1\n",
      "0\n",
      "0\n",
      "1\n",
      "1\n",
      "0\n",
      "0\n",
      "1\n",
      "1\n",
      "0\n",
      "1\n",
      "0\n",
      "0\n",
      "1\n",
      "0\n",
      "1\n",
      "0\n",
      "1\n",
      "0\n",
      "0\n",
      "0\n",
      "0\n",
      "1\n",
      "0\n",
      "1\n",
      "0\n",
      "0\n",
      "0\n",
      "0\n",
      "0\n",
      "1\n",
      "0\n",
      "1\n",
      "1\n",
      "0\n",
      "0\n",
      "1\n",
      "0\n",
      "0\n",
      "0\n",
      "0\n",
      "1\n",
      "0\n",
      "0\n",
      "0\n",
      "0\n",
      "0\n",
      "0\n",
      "0\n",
      "1\n",
      "1\n",
      "1\n",
      "0\n",
      "0\n",
      "0\n",
      "0\n",
      "0\n",
      "1\n",
      "0\n",
      "0\n",
      "1\n",
      "0\n",
      "0\n",
      "1\n",
      "1\n",
      "0\n",
      "0\n",
      "0\n",
      "0\n",
      "0\n",
      "1\n",
      "1\n",
      "0\n",
      "0\n",
      "1\n",
      "0\n",
      "0\n",
      "0\n",
      "0\n",
      "0\n",
      "0\n",
      "0\n",
      "0\n",
      "0\n",
      "0\n",
      "1\n",
      "0\n",
      "0\n",
      "0\n",
      "0\n",
      "0\n",
      "1\n",
      "0\n",
      "0\n",
      "0\n",
      "0\n",
      "1\n",
      "0\n",
      "0\n",
      "0\n",
      "0\n",
      "1\n",
      "1\n",
      "0\n",
      "1\n",
      "0\n",
      "0\n",
      "0\n",
      "1\n",
      "1\n",
      "0\n",
      "1\n",
      "1\n",
      "0\n",
      "1\n",
      "0\n",
      "1\n",
      "0\n",
      "0\n",
      "0\n",
      "0\n",
      "0\n",
      "0\n",
      "0\n",
      "0\n",
      "0\n",
      "0\n",
      "0\n",
      "0\n",
      "0\n",
      "0\n",
      "0\n",
      "0\n",
      "1\n",
      "0\n",
      "1\n",
      "0\n",
      "0\n",
      "1\n",
      "0\n",
      "0\n",
      "1\n",
      "0\n",
      "0\n",
      "0\n",
      "0\n",
      "1\n",
      "0\n",
      "0\n",
      "0\n",
      "0\n"
     ]
    }
   ],
   "source": [
    "#### Predictiom in X_test data\n",
    "\n",
    "predictions = []\n",
    "\n",
    "with torch.no_grad():\n",
    "    for i ,data in enumerate(X_test):\n",
    "        pred_Y = model(data)\n",
    "        predictions.append(pred_Y.argmax().item())\n",
    "        print(pred_Y.argmax().item())"
   ]
  },
  {
   "cell_type": "code",
   "execution_count": 82,
   "id": "3719c098",
   "metadata": {},
   "outputs": [
    {
     "data": {
      "text/plain": [
       "array([[90, 17],\n",
       "       [20, 27]], dtype=int64)"
      ]
     },
     "execution_count": 82,
     "metadata": {},
     "output_type": "execute_result"
    }
   ],
   "source": [
    "from sklearn.metrics import confusion_matrix\n",
    "cm=confusion_matrix(y_test,predictions)\n",
    "cm"
   ]
  },
  {
   "cell_type": "code",
   "execution_count": 83,
   "id": "4d96592f",
   "metadata": {},
   "outputs": [
    {
     "data": {
      "text/plain": [
       "Text(95.72222222222221, 0.5, 'Predic Values')"
      ]
     },
     "execution_count": 83,
     "metadata": {},
     "output_type": "execute_result"
    },
    {
     "data": {
      "image/png": "[encoded data removed]",
      "text/plain": [
       "<Figure size 1000x600 with 2 Axes>"
      ]
     },
     "metadata": {},
     "output_type": "display_data"
    }
   ],
   "source": [
    "plt.figure(figsize=(10,6))\n",
    "sns.heatmap(cm,annot=True)\n",
    "plt.xlabel('Actual Values')\n",
    "plt.ylabel('Predic Values')"
   ]
  },
  {
   "cell_type": "code",
   "execution_count": 85,
   "id": "b0fc6f69",
   "metadata": {},
   "outputs": [],
   "source": [
    "from sklearn.metrics import accuracy_score\n",
    "score = accuracy_score(y_test,predictions)\n"
   ]
  },
  {
   "cell_type": "code",
   "execution_count": 86,
   "id": "cda005e9",
   "metadata": {},
   "outputs": [
    {
     "data": {
      "text/plain": [
       "0.7597402597402597"
      ]
     },
     "execution_count": 86,
     "metadata": {},
     "output_type": "execute_result"
    }
   ],
   "source": [
    "score"
   ]
  },
  {
   "cell_type": "code",
   "execution_count": 89,
   "id": "53383754",
   "metadata": {},
   "outputs": [],
   "source": [
    "torch.save(model,'diabetes.pt')"
   ]
  },
  {
   "cell_type": "code",
   "execution_count": 90,
   "id": "dd49bb32",
   "metadata": {},
   "outputs": [],
   "source": [
    "model = torch.load('diabetes.pt')"
   ]
  },
  {
   "cell_type": "code",
   "execution_count": 91,
   "id": "2db5262c",
   "metadata": {},
   "outputs": [
    {
     "data": {
      "text/plain": [
       "AA_Model(\n",
       "  (f_connected1): Linear(in_features=8, out_features=20, bias=True)\n",
       "  (f_connected2): Linear(in_features=20, out_features=20, bias=True)\n",
       "  (out): Linear(in_features=20, out_features=2, bias=True)\n",
       ")"
      ]
     },
     "execution_count": 91,
     "metadata": {},
     "output_type": "execute_result"
    }
   ],
   "source": [
    "model.eval()"
   ]
  },
  {
   "cell_type": "code",
   "execution_count": 92,
   "id": "e82381df",
   "metadata": {},
   "outputs": [
    {
     "data": {
      "text/plain": [
       "[6.0, 148.0, 72.0, 35.0, 0.0, 33.6, 0.627, 50.0]"
      ]
     },
     "execution_count": 92,
     "metadata": {},
     "output_type": "execute_result"
    }
   ],
   "source": [
    "###  New data piont predicted\n",
    "\n",
    "\n",
    "list(df.iloc[0,:-1])"
   ]
  },
  {
   "cell_type": "code",
   "execution_count": 94,
   "id": "46bd7421",
   "metadata": {},
   "outputs": [],
   "source": [
    "lst1 = [6.0, 148.0, 72.0, 35.0, 0.0, 33.6, 0.627, 50.0]\n",
    "\n",
    "\n",
    "new_data  = torch.tensor(lst1)"
   ]
  },
  {
   "cell_type": "code",
   "execution_count": 95,
   "id": "db3aff25",
   "metadata": {},
   "outputs": [
    {
     "name": "stdout",
     "output_type": "stream",
     "text": [
      "tensor([1.7065, 2.1339])\n",
      "1\n"
     ]
    }
   ],
   "source": [
    "with torch.no_grad():\n",
    "    print(model(new_data))\n",
    "    print(model(new_data).argmax().item())"
   ]
  },
  {
   "cell_type": "code",
   "execution_count": null,
   "id": "f9edd7bf",
   "metadata": {},
   "outputs": [],
   "source": [
    "      "
   ]
  }
 ],
 "metadata": {
  "kernelspec": {
   "display_name": "Python 3 (ipykernel)",
   "language": "python",
   "name": "python3"
  },
  "language_info": {
   "codemirror_mode": {
    "name": "ipython",
    "version": 3
   },
   "file_extension": ".py",
   "mimetype": "text/x-python",
   "name": "python",
   "nbconvert_exporter": "python",
   "pygments_lexer": "ipython3",
   "version": "3.7.3"
  }
 },
 "nbformat": 4,
 "nbformat_minor": 5
}
