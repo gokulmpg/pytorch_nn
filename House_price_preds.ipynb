{
 "cells": [
  {
   "cell_type": "code",
   "execution_count": 41,
   "id": "18cc6f9f",
   "metadata": {},
   "outputs": [],
   "source": [
    "import pandas as pd\n",
    "import datetime\n",
    "import numpy as np"
   ]
  },
  {
   "cell_type": "markdown",
   "id": "86dbea7f",
   "metadata": {},
   "source": [
    "##### Deep learning\n",
    "\n",
    "##### ANN with Pytorch\n",
    "\n",
    "\n",
    "##### Feature engineering\n",
    "Categorial --- Embedding layer\n",
    "Continous variable\n",
    "\n",
    "##### pythonic class to create NN  Feed forward\n",
    "\n"
   ]
  },
  {
   "cell_type": "code",
   "execution_count": 2,
   "id": "1dfcee82",
   "metadata": {},
   "outputs": [],
   "source": [
    "df = pd.read_csv('houseprice.csv')"
   ]
  },
  {
   "cell_type": "code",
   "execution_count": 4,
   "id": "099dc3d7",
   "metadata": {},
   "outputs": [
    {
     "data": {
      "text/html": [
       "<div>\n",
       "<style scoped>\n",
       "    .dataframe tbody tr th:only-of-type {\n",
       "        vertical-align: middle;\n",
       "    }\n",
       "\n",
       "    .dataframe tbody tr th {\n",
       "        vertical-align: top;\n",
       "    }\n",
       "\n",
       "    .dataframe thead th {\n",
       "        text-align: right;\n",
       "    }\n",
       "</style>\n",
       "<table border=\"1\" class=\"dataframe\">\n",
       "  <thead>\n",
       "    <tr style=\"text-align: right;\">\n",
       "      <th></th>\n",
       "      <th>Id</th>\n",
       "      <th>MSSubClass</th>\n",
       "      <th>MSZoning</th>\n",
       "      <th>LotFrontage</th>\n",
       "      <th>LotArea</th>\n",
       "      <th>Street</th>\n",
       "      <th>Alley</th>\n",
       "      <th>LotShape</th>\n",
       "      <th>LandContour</th>\n",
       "      <th>Utilities</th>\n",
       "      <th>...</th>\n",
       "      <th>PoolArea</th>\n",
       "      <th>PoolQC</th>\n",
       "      <th>Fence</th>\n",
       "      <th>MiscFeature</th>\n",
       "      <th>MiscVal</th>\n",
       "      <th>MoSold</th>\n",
       "      <th>YrSold</th>\n",
       "      <th>SaleType</th>\n",
       "      <th>SaleCondition</th>\n",
       "      <th>SalePrice</th>\n",
       "    </tr>\n",
       "  </thead>\n",
       "  <tbody>\n",
       "    <tr>\n",
       "      <th>0</th>\n",
       "      <td>1</td>\n",
       "      <td>60</td>\n",
       "      <td>RL</td>\n",
       "      <td>65.0</td>\n",
       "      <td>8450</td>\n",
       "      <td>Pave</td>\n",
       "      <td>NaN</td>\n",
       "      <td>Reg</td>\n",
       "      <td>Lvl</td>\n",
       "      <td>AllPub</td>\n",
       "      <td>...</td>\n",
       "      <td>0</td>\n",
       "      <td>NaN</td>\n",
       "      <td>NaN</td>\n",
       "      <td>NaN</td>\n",
       "      <td>0</td>\n",
       "      <td>2</td>\n",
       "      <td>2008</td>\n",
       "      <td>WD</td>\n",
       "      <td>Normal</td>\n",
       "      <td>208500</td>\n",
       "    </tr>\n",
       "    <tr>\n",
       "      <th>1</th>\n",
       "      <td>2</td>\n",
       "      <td>20</td>\n",
       "      <td>RL</td>\n",
       "      <td>80.0</td>\n",
       "      <td>9600</td>\n",
       "      <td>Pave</td>\n",
       "      <td>NaN</td>\n",
       "      <td>Reg</td>\n",
       "      <td>Lvl</td>\n",
       "      <td>AllPub</td>\n",
       "      <td>...</td>\n",
       "      <td>0</td>\n",
       "      <td>NaN</td>\n",
       "      <td>NaN</td>\n",
       "      <td>NaN</td>\n",
       "      <td>0</td>\n",
       "      <td>5</td>\n",
       "      <td>2007</td>\n",
       "      <td>WD</td>\n",
       "      <td>Normal</td>\n",
       "      <td>181500</td>\n",
       "    </tr>\n",
       "    <tr>\n",
       "      <th>2</th>\n",
       "      <td>3</td>\n",
       "      <td>60</td>\n",
       "      <td>RL</td>\n",
       "      <td>68.0</td>\n",
       "      <td>11250</td>\n",
       "      <td>Pave</td>\n",
       "      <td>NaN</td>\n",
       "      <td>IR1</td>\n",
       "      <td>Lvl</td>\n",
       "      <td>AllPub</td>\n",
       "      <td>...</td>\n",
       "      <td>0</td>\n",
       "      <td>NaN</td>\n",
       "      <td>NaN</td>\n",
       "      <td>NaN</td>\n",
       "      <td>0</td>\n",
       "      <td>9</td>\n",
       "      <td>2008</td>\n",
       "      <td>WD</td>\n",
       "      <td>Normal</td>\n",
       "      <td>223500</td>\n",
       "    </tr>\n",
       "    <tr>\n",
       "      <th>3</th>\n",
       "      <td>4</td>\n",
       "      <td>70</td>\n",
       "      <td>RL</td>\n",
       "      <td>60.0</td>\n",
       "      <td>9550</td>\n",
       "      <td>Pave</td>\n",
       "      <td>NaN</td>\n",
       "      <td>IR1</td>\n",
       "      <td>Lvl</td>\n",
       "      <td>AllPub</td>\n",
       "      <td>...</td>\n",
       "      <td>0</td>\n",
       "      <td>NaN</td>\n",
       "      <td>NaN</td>\n",
       "      <td>NaN</td>\n",
       "      <td>0</td>\n",
       "      <td>2</td>\n",
       "      <td>2006</td>\n",
       "      <td>WD</td>\n",
       "      <td>Abnorml</td>\n",
       "      <td>140000</td>\n",
       "    </tr>\n",
       "    <tr>\n",
       "      <th>4</th>\n",
       "      <td>5</td>\n",
       "      <td>60</td>\n",
       "      <td>RL</td>\n",
       "      <td>84.0</td>\n",
       "      <td>14260</td>\n",
       "      <td>Pave</td>\n",
       "      <td>NaN</td>\n",
       "      <td>IR1</td>\n",
       "      <td>Lvl</td>\n",
       "      <td>AllPub</td>\n",
       "      <td>...</td>\n",
       "      <td>0</td>\n",
       "      <td>NaN</td>\n",
       "      <td>NaN</td>\n",
       "      <td>NaN</td>\n",
       "      <td>0</td>\n",
       "      <td>12</td>\n",
       "      <td>2008</td>\n",
       "      <td>WD</td>\n",
       "      <td>Normal</td>\n",
       "      <td>250000</td>\n",
       "    </tr>\n",
       "  </tbody>\n",
       "</table>\n",
       "<p>5 rows × 81 columns</p>\n",
       "</div>"
      ],
      "text/plain": [
       "   Id  MSSubClass MSZoning  LotFrontage  LotArea Street Alley LotShape  \\\n",
       "0   1          60       RL         65.0     8450   Pave   NaN      Reg   \n",
       "1   2          20       RL         80.0     9600   Pave   NaN      Reg   \n",
       "2   3          60       RL         68.0    11250   Pave   NaN      IR1   \n",
       "3   4          70       RL         60.0     9550   Pave   NaN      IR1   \n",
       "4   5          60       RL         84.0    14260   Pave   NaN      IR1   \n",
       "\n",
       "  LandContour Utilities  ... PoolArea PoolQC Fence MiscFeature MiscVal MoSold  \\\n",
       "0         Lvl    AllPub  ...        0    NaN   NaN         NaN       0      2   \n",
       "1         Lvl    AllPub  ...        0    NaN   NaN         NaN       0      5   \n",
       "2         Lvl    AllPub  ...        0    NaN   NaN         NaN       0      9   \n",
       "3         Lvl    AllPub  ...        0    NaN   NaN         NaN       0      2   \n",
       "4         Lvl    AllPub  ...        0    NaN   NaN         NaN       0     12   \n",
       "\n",
       "  YrSold  SaleType  SaleCondition  SalePrice  \n",
       "0   2008        WD         Normal     208500  \n",
       "1   2007        WD         Normal     181500  \n",
       "2   2008        WD         Normal     223500  \n",
       "3   2006        WD        Abnorml     140000  \n",
       "4   2008        WD         Normal     250000  \n",
       "\n",
       "[5 rows x 81 columns]"
      ]
     },
     "execution_count": 4,
     "metadata": {},
     "output_type": "execute_result"
    }
   ],
   "source": [
    "df.head(5)"
   ]
  },
  {
   "cell_type": "code",
   "execution_count": 5,
   "id": "c56f18e6",
   "metadata": {},
   "outputs": [
    {
     "data": {
      "text/plain": [
       "(1460, 81)"
      ]
     },
     "execution_count": 5,
     "metadata": {},
     "output_type": "execute_result"
    }
   ],
   "source": [
    "df.shape"
   ]
  },
  {
   "cell_type": "code",
   "execution_count": 9,
   "id": "c82a81a4",
   "metadata": {},
   "outputs": [
    {
     "name": "stdout",
     "output_type": "stream",
     "text": [
      "<class 'pandas.core.frame.DataFrame'>\n",
      "RangeIndex: 1460 entries, 0 to 1459\n",
      "Data columns (total 9 columns):\n",
      "MSSubClass     1460 non-null int64\n",
      "MSZoning       1460 non-null object\n",
      "LotFrontage    1201 non-null float64\n",
      "Street         1460 non-null object\n",
      "LotShape       1460 non-null object\n",
      "YearBuilt      1460 non-null int64\n",
      "1stFlrSF       1460 non-null int64\n",
      "2ndFlrSF       1460 non-null int64\n",
      "SalePrice      1460 non-null int64\n",
      "dtypes: float64(1), int64(5), object(3)\n",
      "memory usage: 102.7+ KB\n"
     ]
    }
   ],
   "source": [
    "df = df[['MSSubClass','MSZoning','LotFrontage', 'Street','LotShape','YearBuilt', '1stFlrSF','2ndFlrSF','SalePrice']]\n",
    "\n",
    "\n",
    "df.info()"
   ]
  },
  {
   "cell_type": "code",
   "execution_count": 11,
   "id": "f70ae57f",
   "metadata": {},
   "outputs": [
    {
     "name": "stdout",
     "output_type": "stream",
     "text": [
      "Column name MSSubClass has 15 unique values\n",
      "Column name MSZoning has 5 unique values\n",
      "Column name LotFrontage has 111 unique values\n",
      "Column name Street has 2 unique values\n",
      "Column name LotShape has 4 unique values\n",
      "Column name YearBuilt has 112 unique values\n",
      "Column name 1stFlrSF has 753 unique values\n",
      "Column name 2ndFlrSF has 417 unique values\n",
      "Column name SalePrice has 663 unique values\n"
     ]
    }
   ],
   "source": [
    "for i in df.columns:\n",
    "    print(\"Column name {} has {} unique values\".format(i,len(df[i].unique())))"
   ]
  },
  {
   "cell_type": "code",
   "execution_count": 19,
   "id": "2ea6b450",
   "metadata": {},
   "outputs": [],
   "source": [
    "\n",
    "yearnow = datetime.datetime.now().year"
   ]
  },
  {
   "cell_type": "code",
   "execution_count": 20,
   "id": "b339249c",
   "metadata": {},
   "outputs": [
    {
     "name": "stderr",
     "output_type": "stream",
     "text": [
      "C:\\Users\\GPACKIRI\\anaconda3\\envs\\envpytorch\\lib\\site-packages\\ipykernel_launcher.py:1: SettingWithCopyWarning: \n",
      "A value is trying to be set on a copy of a slice from a DataFrame.\n",
      "Try using .loc[row_indexer,col_indexer] = value instead\n",
      "\n",
      "See the caveats in the documentation: http://pandas.pydata.org/pandas-docs/stable/indexing.html#indexing-view-versus-copy\n",
      "  \"\"\"Entry point for launching an IPython kernel.\n"
     ]
    }
   ],
   "source": [
    "df['Total Years'] = yearnow - df['YearBuilt']"
   ]
  },
  {
   "cell_type": "code",
   "execution_count": 24,
   "id": "a85ab75d",
   "metadata": {},
   "outputs": [
    {
     "data": {
      "text/plain": [
       "0     21\n",
       "1     48\n",
       "2     23\n",
       "3    109\n",
       "4     24\n",
       "Name: Total Years, dtype: int64"
      ]
     },
     "execution_count": 24,
     "metadata": {},
     "output_type": "execute_result"
    }
   ],
   "source": [
    "df['Total Years'].head()"
   ]
  },
  {
   "cell_type": "code",
   "execution_count": 26,
   "id": "a97cd9ea",
   "metadata": {},
   "outputs": [
    {
     "name": "stderr",
     "output_type": "stream",
     "text": [
      "C:\\Users\\GPACKIRI\\anaconda3\\envs\\envpytorch\\lib\\site-packages\\pandas\\core\\frame.py:3940: SettingWithCopyWarning: \n",
      "A value is trying to be set on a copy of a slice from a DataFrame\n",
      "\n",
      "See the caveats in the documentation: http://pandas.pydata.org/pandas-docs/stable/indexing.html#indexing-view-versus-copy\n",
      "  errors=errors)\n"
     ]
    }
   ],
   "source": [
    "df.drop('YearBuilt',axis=1,inplace = True)"
   ]
  },
  {
   "cell_type": "code",
   "execution_count": 32,
   "id": "61f43679",
   "metadata": {},
   "outputs": [],
   "source": [
    "### Creating categorical features\n",
    "\n",
    "cat_features = ['MSSubClass', 'MSZoning','Street','LotShape']\n",
    "\n",
    "out_features = ['SalePrice']\n"
   ]
  },
  {
   "cell_type": "code",
   "execution_count": 29,
   "id": "85c49c89",
   "metadata": {},
   "outputs": [
    {
     "data": {
      "text/plain": [
       "array([5, 0, 5, ..., 6, 0, 0], dtype=int64)"
      ]
     },
     "execution_count": 29,
     "metadata": {},
     "output_type": "execute_result"
    }
   ],
   "source": [
    "# Label encoding\n",
    "from sklearn.preprocessing import LabelEncoder\n",
    "\n",
    "lbl_encoders ={}\n",
    "\n",
    "lbl_encoders['MSSubClass']   =  LabelEncoder()\n",
    "lbl_encoders['MSSubClass'].fit_transform(df['MSSubClass'])"
   ]
  },
  {
   "cell_type": "code",
   "execution_count": 35,
   "id": "18b583fa",
   "metadata": {},
   "outputs": [
    {
     "data": {
      "text/plain": [
       "{'MSSubClass': LabelEncoder(),\n",
       " 'MSZoning': LabelEncoder(),\n",
       " 'Street': LabelEncoder(),\n",
       " 'LotShape': LabelEncoder()}"
      ]
     },
     "execution_count": 35,
     "metadata": {},
     "output_type": "execute_result"
    }
   ],
   "source": [
    "lbl_encoders"
   ]
  },
  {
   "cell_type": "code",
   "execution_count": 36,
   "id": "722523e7",
   "metadata": {},
   "outputs": [
    {
     "name": "stderr",
     "output_type": "stream",
     "text": [
      "C:\\Users\\GPACKIRI\\anaconda3\\envs\\envpytorch\\lib\\site-packages\\ipykernel_launcher.py:7: SettingWithCopyWarning: \n",
      "A value is trying to be set on a copy of a slice from a DataFrame.\n",
      "Try using .loc[row_indexer,col_indexer] = value instead\n",
      "\n",
      "See the caveats in the documentation: http://pandas.pydata.org/pandas-docs/stable/indexing.html#indexing-view-versus-copy\n",
      "  import sys\n"
     ]
    }
   ],
   "source": [
    "from sklearn.preprocessing import LabelEncoder\n",
    "\n",
    "lbl_encoders ={}\n",
    "\n",
    "for feature in cat_features:\n",
    "    lbl_encoders[feature]   =  LabelEncoder()\n",
    "    df[feature] = lbl_encoders[feature].fit_transform(df[feature])"
   ]
  },
  {
   "cell_type": "code",
   "execution_count": 38,
   "id": "9332fdfe",
   "metadata": {},
   "outputs": [
    {
     "data": {
      "text/html": [
       "<div>\n",
       "<style scoped>\n",
       "    .dataframe tbody tr th:only-of-type {\n",
       "        vertical-align: middle;\n",
       "    }\n",
       "\n",
       "    .dataframe tbody tr th {\n",
       "        vertical-align: top;\n",
       "    }\n",
       "\n",
       "    .dataframe thead th {\n",
       "        text-align: right;\n",
       "    }\n",
       "</style>\n",
       "<table border=\"1\" class=\"dataframe\">\n",
       "  <thead>\n",
       "    <tr style=\"text-align: right;\">\n",
       "      <th></th>\n",
       "      <th>MSSubClass</th>\n",
       "      <th>MSZoning</th>\n",
       "      <th>LotFrontage</th>\n",
       "      <th>Street</th>\n",
       "      <th>LotShape</th>\n",
       "      <th>1stFlrSF</th>\n",
       "      <th>2ndFlrSF</th>\n",
       "      <th>SalePrice</th>\n",
       "      <th>Total Years</th>\n",
       "    </tr>\n",
       "  </thead>\n",
       "  <tbody>\n",
       "    <tr>\n",
       "      <th>0</th>\n",
       "      <td>5</td>\n",
       "      <td>3</td>\n",
       "      <td>65.0</td>\n",
       "      <td>1</td>\n",
       "      <td>3</td>\n",
       "      <td>856</td>\n",
       "      <td>854</td>\n",
       "      <td>208500</td>\n",
       "      <td>21</td>\n",
       "    </tr>\n",
       "    <tr>\n",
       "      <th>1</th>\n",
       "      <td>0</td>\n",
       "      <td>3</td>\n",
       "      <td>80.0</td>\n",
       "      <td>1</td>\n",
       "      <td>3</td>\n",
       "      <td>1262</td>\n",
       "      <td>0</td>\n",
       "      <td>181500</td>\n",
       "      <td>48</td>\n",
       "    </tr>\n",
       "  </tbody>\n",
       "</table>\n",
       "</div>"
      ],
      "text/plain": [
       "   MSSubClass  MSZoning  LotFrontage  Street  LotShape  1stFlrSF  2ndFlrSF  \\\n",
       "0           5         3         65.0       1         3       856       854   \n",
       "1           0         3         80.0       1         3      1262         0   \n",
       "\n",
       "   SalePrice  Total Years  \n",
       "0     208500           21  \n",
       "1     181500           48  "
      ]
     },
     "execution_count": 38,
     "metadata": {},
     "output_type": "execute_result"
    }
   ],
   "source": [
    "df.head(2)"
   ]
  },
  {
   "cell_type": "code",
   "execution_count": 42,
   "id": "d32ed160",
   "metadata": {},
   "outputs": [
    {
     "data": {
      "text/plain": [
       "array([[5, 3, 1, 3],\n",
       "       [0, 3, 1, 3],\n",
       "       [5, 3, 1, 0],\n",
       "       ...,\n",
       "       [6, 3, 1, 3],\n",
       "       [0, 3, 1, 3],\n",
       "       [0, 3, 1, 3]], dtype=int64)"
      ]
     },
     "execution_count": 42,
     "metadata": {},
     "output_type": "execute_result"
    }
   ],
   "source": [
    "cat_feature = np.stack([df['MSSubClass'],df['MSZoning'],df['Street'],df['LotShape']],1 )\n",
    "cat_feature"
   ]
  },
  {
   "cell_type": "code",
   "execution_count": 45,
   "id": "f78d47c0",
   "metadata": {},
   "outputs": [],
   "source": [
    "import torch\n",
    "\n",
    "cat_feature = torch.tensor(cat_feature,dtype=torch.int64)"
   ]
  },
  {
   "cell_type": "code",
   "execution_count": null,
   "id": "bc3f1f64",
   "metadata": {},
   "outputs": [],
   "source": [
    "#### Treating continous values"
   ]
  },
  {
   "cell_type": "code",
   "execution_count": 56,
   "id": "d76723bc",
   "metadata": {},
   "outputs": [],
   "source": [
    "cont_features = []\n",
    "\n",
    "for i in df.columns:\n",
    "    if i not in ['LotFrontage', 'LotArea','1stFlrSF', '2ndFlrSF',  'Total Years']:\n",
    "        pass\n",
    "    else:\n",
    "        cont_features.append(i)"
   ]
  },
  {
   "cell_type": "code",
   "execution_count": 58,
   "id": "ecdf46b0",
   "metadata": {},
   "outputs": [
    {
     "data": {
      "text/plain": [
       "['LotFrontage', '1stFlrSF', '2ndFlrSF', 'Total Years']"
      ]
     },
     "execution_count": 58,
     "metadata": {},
     "output_type": "execute_result"
    }
   ],
   "source": [
    "cont_features"
   ]
  },
  {
   "cell_type": "code",
   "execution_count": 57,
   "id": "45d58c86",
   "metadata": {},
   "outputs": [
    {
     "data": {
      "text/plain": [
       "tensor([[  65.,  856.,  854.,   21.],\n",
       "        [  80., 1262.,    0.,   48.],\n",
       "        [  68.,  920.,  866.,   23.],\n",
       "        ...,\n",
       "        [  66., 1188., 1152.,   83.],\n",
       "        [  68., 1078.,    0.,   74.],\n",
       "        [  75., 1256.,    0.,   59.]])"
      ]
     },
     "execution_count": 57,
     "metadata": {},
     "output_type": "execute_result"
    }
   ],
   "source": [
    "## stacking cont variable to a tensor\n",
    "\n",
    "cont_variable =  np.stack([df[i].values for i in cont_features],axis = 1)\n",
    "cont_variable = torch.tensor(cont_variable,dtype=torch.float)\n",
    "cont_variable"
   ]
  },
  {
   "cell_type": "code",
   "execution_count": 60,
   "id": "5df82b5a",
   "metadata": {},
   "outputs": [
    {
     "data": {
      "text/plain": [
       "torch.float32"
      ]
     },
     "execution_count": 60,
     "metadata": {},
     "output_type": "execute_result"
    }
   ],
   "source": [
    "cont_variable.dtype"
   ]
  },
  {
   "cell_type": "code",
   "execution_count": 62,
   "id": "4d8319e6",
   "metadata": {},
   "outputs": [],
   "source": [
    "y = torch.tensor(df['SalePrice'].values,dtype=torch.float).reshape(-1,1)"
   ]
  },
  {
   "cell_type": "code",
   "execution_count": 63,
   "id": "e24242e8",
   "metadata": {},
   "outputs": [
    {
     "data": {
      "text/plain": [
       "tensor([[208500.],\n",
       "        [181500.],\n",
       "        [223500.],\n",
       "        ...,\n",
       "        [266500.],\n",
       "        [142125.],\n",
       "        [147500.]])"
      ]
     },
     "execution_count": 63,
     "metadata": {},
     "output_type": "execute_result"
    }
   ],
   "source": [
    "y"
   ]
  },
  {
   "cell_type": "code",
   "execution_count": 66,
   "id": "8f8b5440",
   "metadata": {},
   "outputs": [
    {
     "name": "stdout",
     "output_type": "stream",
     "text": [
      "<class 'pandas.core.frame.DataFrame'>\n",
      "RangeIndex: 1460 entries, 0 to 1459\n",
      "Data columns (total 9 columns):\n",
      "MSSubClass     1460 non-null int64\n",
      "MSZoning       1460 non-null int32\n",
      "LotFrontage    1201 non-null float64\n",
      "Street         1460 non-null int32\n",
      "LotShape       1460 non-null int32\n",
      "1stFlrSF       1460 non-null int64\n",
      "2ndFlrSF       1460 non-null int64\n",
      "SalePrice      1460 non-null int64\n",
      "Total Years    1460 non-null int64\n",
      "dtypes: float64(1), int32(3), int64(5)\n",
      "memory usage: 85.6 KB\n"
     ]
    }
   ],
   "source": [
    "df.info()"
   ]
  },
  {
   "cell_type": "code",
   "execution_count": 67,
   "id": "71b0895c",
   "metadata": {},
   "outputs": [
    {
     "data": {
      "text/plain": [
       "(torch.Size([1460, 4]), torch.Size([1460, 4]), torch.Size([1460, 1]))"
      ]
     },
     "execution_count": 67,
     "metadata": {},
     "output_type": "execute_result"
    }
   ],
   "source": [
    "cat_feature.shape,cont_variable.shape,y.shape"
   ]
  },
  {
   "cell_type": "code",
   "execution_count": 68,
   "id": "6e928fe0",
   "metadata": {},
   "outputs": [],
   "source": [
    "#####   EMBEDDING SIZE FOR CATEGORICAL VARIABLE"
   ]
  },
  {
   "cell_type": "code",
   "execution_count": 70,
   "id": "7c63e0f3",
   "metadata": {},
   "outputs": [],
   "source": [
    "cat_dims = [len(df[cols].unique()) for cols in ['MSSubClass', 'MSZoning', 'Street', 'LotShape']]"
   ]
  },
  {
   "cell_type": "code",
   "execution_count": 71,
   "id": "6a25c568",
   "metadata": {},
   "outputs": [
    {
     "data": {
      "text/plain": [
       "[15, 5, 2, 4]"
      ]
     },
     "execution_count": 71,
     "metadata": {},
     "output_type": "execute_result"
    }
   ],
   "source": [
    "cat_dims"
   ]
  },
  {
   "cell_type": "markdown",
   "id": "0580d5df",
   "metadata": {},
   "source": [
    "#### THUMPS RULE TO SET OUTPUT DIMENSION BASED ON INPUT DIM\n",
    "\n",
    "##### input feature numbers + 1 and // 2     not more tthan 50"
   ]
  },
  {
   "cell_type": "code",
   "execution_count": 74,
   "id": "81f8ec71",
   "metadata": {},
   "outputs": [],
   "source": [
    "embedding_dim = [(x, min(50, (x+1)// 2)) for x in cat_dims]"
   ]
  },
  {
   "cell_type": "code",
   "execution_count": 75,
   "id": "f7db59ec",
   "metadata": {},
   "outputs": [
    {
     "data": {
      "text/plain": [
       "[(15, 8), (5, 3), (2, 1), (4, 2)]"
      ]
     },
     "execution_count": 75,
     "metadata": {},
     "output_type": "execute_result"
    }
   ],
   "source": [
    "embedding_dim"
   ]
  },
  {
   "cell_type": "code",
   "execution_count": 77,
   "id": "2d127575",
   "metadata": {},
   "outputs": [
    {
     "data": {
      "text/plain": [
       "ModuleList(\n",
       "  (0): Embedding(15, 8)\n",
       "  (1): Embedding(5, 3)\n",
       "  (2): Embedding(2, 1)\n",
       "  (3): Embedding(4, 2)\n",
       ")"
      ]
     },
     "execution_count": 77,
     "metadata": {},
     "output_type": "execute_result"
    }
   ],
   "source": [
    "import torch.nn as nn\n",
    "import torch.nn.functional as F\n",
    "embed_representation = nn.ModuleList([nn.Embedding(inp,out) for inp,out in embedding_dim])\n",
    "embed_representation"
   ]
  },
  {
   "cell_type": "code",
   "execution_count": 79,
   "id": "5b1effc8",
   "metadata": {},
   "outputs": [
    {
     "data": {
      "text/plain": [
       "tensor([[5, 3, 1, 3],\n",
       "        [0, 3, 1, 3],\n",
       "        [5, 3, 1, 0],\n",
       "        ...,\n",
       "        [6, 3, 1, 3],\n",
       "        [0, 3, 1, 3],\n",
       "        [0, 3, 1, 3]])"
      ]
     },
     "execution_count": 79,
     "metadata": {},
     "output_type": "execute_result"
    }
   ],
   "source": [
    "cat_feature"
   ]
  },
  {
   "cell_type": "code",
   "execution_count": 80,
   "id": "7842d90f",
   "metadata": {},
   "outputs": [],
   "source": [
    "cat_feature = cat_feature[:4]"
   ]
  },
  {
   "cell_type": "code",
   "execution_count": 81,
   "id": "628474c9",
   "metadata": {},
   "outputs": [
    {
     "data": {
      "text/plain": [
       "tensor([[5, 3, 1, 3],\n",
       "        [0, 3, 1, 3],\n",
       "        [5, 3, 1, 0],\n",
       "        [6, 3, 1, 0]])"
      ]
     },
     "execution_count": 81,
     "metadata": {},
     "output_type": "execute_result"
    }
   ],
   "source": [
    "cat_feature"
   ]
  },
  {
   "cell_type": "code",
   "execution_count": 82,
   "id": "34f4b44b",
   "metadata": {},
   "outputs": [],
   "source": [
    "pd.set_option('display.max_rows',500)\n",
    "embedding_val=[]"
   ]
  },
  {
   "cell_type": "code",
   "execution_count": 83,
   "id": "1eb10dd5",
   "metadata": {},
   "outputs": [],
   "source": [
    "for i,e in enumerate(embed_representation):\n",
    "    embedding_val.append(e(cat_feature[:,i]))"
   ]
  },
  {
   "cell_type": "code",
   "execution_count": 84,
   "id": "1ba9ac7c",
   "metadata": {},
   "outputs": [
    {
     "data": {
      "text/plain": [
       "[tensor([[-0.8649,  1.4442, -2.4038,  0.4607, -1.6097, -1.2316,  1.3595, -1.0647],\n",
       "         [ 1.1668, -0.6127, -0.0366, -0.1552, -0.2130,  0.0284, -1.1829,  0.0234],\n",
       "         [-0.8649,  1.4442, -2.4038,  0.4607, -1.6097, -1.2316,  1.3595, -1.0647],\n",
       "         [-1.4354,  0.0685,  0.8425, -0.4071,  0.0134, -0.0360, -0.6042, -0.3931]],\n",
       "        grad_fn=<EmbeddingBackward0>),\n",
       " tensor([[ 0.9929, -1.7647, -0.2924],\n",
       "         [ 0.9929, -1.7647, -0.2924],\n",
       "         [ 0.9929, -1.7647, -0.2924],\n",
       "         [ 0.9929, -1.7647, -0.2924]], grad_fn=<EmbeddingBackward0>),\n",
       " tensor([[0.2588],\n",
       "         [0.2588],\n",
       "         [0.2588],\n",
       "         [0.2588]], grad_fn=<EmbeddingBackward0>),\n",
       " tensor([[-0.2082, -0.3739],\n",
       "         [-0.2082, -0.3739],\n",
       "         [ 0.8116, -0.5130],\n",
       "         [ 0.8116, -0.5130]], grad_fn=<EmbeddingBackward0>)]"
      ]
     },
     "execution_count": 84,
     "metadata": {},
     "output_type": "execute_result"
    }
   ],
   "source": [
    "embedding_val"
   ]
  },
  {
   "cell_type": "code",
   "execution_count": 85,
   "id": "c13e759c",
   "metadata": {},
   "outputs": [
    {
     "data": {
      "text/plain": [
       "tensor([[-0.8649,  1.4442, -2.4038,  0.4607, -1.6097, -1.2316,  1.3595, -1.0647,\n",
       "          0.9929, -1.7647, -0.2924,  0.2588, -0.2082, -0.3739],\n",
       "        [ 1.1668, -0.6127, -0.0366, -0.1552, -0.2130,  0.0284, -1.1829,  0.0234,\n",
       "          0.9929, -1.7647, -0.2924,  0.2588, -0.2082, -0.3739],\n",
       "        [-0.8649,  1.4442, -2.4038,  0.4607, -1.6097, -1.2316,  1.3595, -1.0647,\n",
       "          0.9929, -1.7647, -0.2924,  0.2588,  0.8116, -0.5130],\n",
       "        [-1.4354,  0.0685,  0.8425, -0.4071,  0.0134, -0.0360, -0.6042, -0.3931,\n",
       "          0.9929, -1.7647, -0.2924,  0.2588,  0.8116, -0.5130]],\n",
       "       grad_fn=<CatBackward0>)"
      ]
     },
     "execution_count": 85,
     "metadata": {},
     "output_type": "execute_result"
    }
   ],
   "source": [
    "z = torch.cat(embedding_val,1)\n",
    "z"
   ]
  },
  {
   "cell_type": "code",
   "execution_count": 86,
   "id": "265db7d8",
   "metadata": {},
   "outputs": [],
   "source": [
    "dropout = nn.Dropout(.4)"
   ]
  },
  {
   "cell_type": "code",
   "execution_count": 87,
   "id": "cf3d83c2",
   "metadata": {},
   "outputs": [
    {
     "data": {
      "text/plain": [
       "tensor([[-1.4415,  2.4070, -0.0000,  0.7678, -2.6828, -0.0000,  2.2658, -1.7745,\n",
       "          0.0000, -2.9412, -0.0000,  0.0000, -0.3470, -0.0000],\n",
       "        [ 1.9447, -1.0211, -0.0610, -0.2586, -0.0000,  0.0473, -1.9716,  0.0000,\n",
       "          1.6548, -2.9412, -0.4873,  0.4313, -0.3470, -0.0000],\n",
       "        [-1.4415,  0.0000, -0.0000,  0.0000, -2.6828, -0.0000,  0.0000, -0.0000,\n",
       "          0.0000, -2.9412, -0.4873,  0.0000,  1.3526, -0.0000],\n",
       "        [-2.3924,  0.1142,  1.4042, -0.6785,  0.0224, -0.0600, -1.0071, -0.0000,\n",
       "          1.6548, -2.9412, -0.4873,  0.4313,  0.0000, -0.0000]],\n",
       "       grad_fn=<MulBackward0>)"
      ]
     },
     "execution_count": 87,
     "metadata": {},
     "output_type": "execute_result"
    }
   ],
   "source": [
    "final_embed = dropout(z)\n",
    "final_embed"
   ]
  },
  {
   "cell_type": "code",
   "execution_count": null,
   "id": "d7be083c",
   "metadata": {},
   "outputs": [],
   "source": []
  }
 ],
 "metadata": {
  "kernelspec": {
   "display_name": "Python 3 (ipykernel)",
   "language": "python",
   "name": "python3"
  },
  "language_info": {
   "codemirror_mode": {
    "name": "ipython",
    "version": 3
   },
   "file_extension": ".py",
   "mimetype": "text/x-python",
   "name": "python",
   "nbconvert_exporter": "python",
   "pygments_lexer": "ipython3",
   "version": "3.7.3"
  }
 },
 "nbformat": 4,
 "nbformat_minor": 5
}
