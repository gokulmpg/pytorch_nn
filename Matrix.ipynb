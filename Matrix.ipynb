{
 "cells": [
  {
   "cell_type": "code",
   "execution_count": 1,
   "id": "9c8931be",
   "metadata": {},
   "outputs": [],
   "source": [
    "import numpy as np"
   ]
  },
  {
   "cell_type": "code",
   "execution_count": 3,
   "id": "29622ffc",
   "metadata": {},
   "outputs": [],
   "source": [
    "Rev_arr = np.array([[180,200,220],[24,36,40], [12,18,20]])\n",
    "Exp_arr = np.array([[80,90,100],[10,16,20],[8,10,10]])"
   ]
  },
  {
   "cell_type": "code",
   "execution_count": 4,
   "id": "ee4dc253",
   "metadata": {},
   "outputs": [],
   "source": [
    "profit = Rev_arr - Exp_arr"
   ]
  },
  {
   "cell_type": "code",
   "execution_count": 5,
   "id": "110d83f5",
   "metadata": {},
   "outputs": [
    {
     "data": {
      "text/plain": [
       "array([[100, 110, 120],\n",
       "       [ 14,  20,  20],\n",
       "       [  4,   8,  10]])"
      ]
     },
     "execution_count": 5,
     "metadata": {},
     "output_type": "execute_result"
    }
   ],
   "source": [
    "profit"
   ]
  },
  {
   "cell_type": "code",
   "execution_count": 10,
   "id": "9f2ccd1c",
   "metadata": {},
   "outputs": [],
   "source": [
    "# Total sales every year\n",
    "\n",
    "price_per_unit = np.array([1000,200,200])\n",
    "\n",
    "units = np.array([[30,40,50],[5,10,15],[2,5,7]])"
   ]
  },
  {
   "cell_type": "code",
   "execution_count": 11,
   "id": "0b411a54",
   "metadata": {},
   "outputs": [
    {
     "data": {
      "text/plain": [
       "array([31400, 43000, 54400])"
      ]
     },
     "execution_count": 11,
     "metadata": {},
     "output_type": "execute_result"
    }
   ],
   "source": [
    "np.dot(price_per_unit,units)"
   ]
  },
  {
   "cell_type": "code",
   "execution_count": 12,
   "id": "758a7a98",
   "metadata": {},
   "outputs": [
    {
     "data": {
      "text/plain": [
       "array([31400, 43000, 54400])"
      ]
     },
     "execution_count": 12,
     "metadata": {},
     "output_type": "execute_result"
    }
   ],
   "source": [
    "np.matmul(price_per_unit,units)"
   ]
  },
  {
   "cell_type": "code",
   "execution_count": 13,
   "id": "3c60ee36",
   "metadata": {},
   "outputs": [
    {
     "data": {
      "text/plain": [
       "array([[  2000, -44000,  34000],\n",
       "       [  1000, -14000,   9000],\n",
       "       [   400,  -6600,   4600]])"
      ]
     },
     "execution_count": 13,
     "metadata": {},
     "output_type": "execute_result"
    }
   ],
   "source": [
    "np.cross(price_per_unit,units)"
   ]
  },
  {
   "cell_type": "code",
   "execution_count": 15,
   "id": "7f9fb63c",
   "metadata": {},
   "outputs": [
    {
     "data": {
      "text/plain": [
       "array([[ -2000,  44000, -34000],\n",
       "       [ -1000,  14000,  -9000],\n",
       "       [  -400,   6600,  -4600]])"
      ]
     },
     "execution_count": 15,
     "metadata": {},
     "output_type": "execute_result"
    }
   ],
   "source": [
    "np.cross(units,price_per_unit)"
   ]
  },
  {
   "cell_type": "code",
   "execution_count": null,
   "id": "2900b741",
   "metadata": {},
   "outputs": [],
   "source": []
  }
 ],
 "metadata": {
  "kernelspec": {
   "display_name": "Python 3 (ipykernel)",
   "language": "python",
   "name": "python3"
  },
  "language_info": {
   "codemirror_mode": {
    "name": "ipython",
    "version": 3
   },
   "file_extension": ".py",
   "mimetype": "text/x-python",
   "name": "python",
   "nbconvert_exporter": "python",
   "pygments_lexer": "ipython3",
   "version": "3.7.3"
  }
 },
 "nbformat": 4,
 "nbformat_minor": 5
}
