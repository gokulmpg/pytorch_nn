{
 "cells": [
  {
   "cell_type": "markdown",
   "id": "b87aa39d",
   "metadata": {},
   "source": [
    "#### Non linera equation - through activation function\n",
    "\n",
    "\n",
    "#### Binary Classification Problem"
   ]
  },
  {
   "cell_type": "markdown",
   "id": "525eb4b0",
   "metadata": {},
   "source": [
    "#### Sigmoid function\n",
    "\n",
    "\n",
    "##### 1/ e + e~ -Z\n",
    "\n",
    "\n",
    "\n",
    "#### tanh\n",
    "\n",
    "##### e`z - e`-z  /   e`z + e -z\n",
    "\n",
    "\n",
    "\n",
    "#### ReLU\n",
    "\n",
    "##### Value below zero = 0\n",
    "\n",
    "##### Value grater than zero = value\n",
    "\n",
    "\n",
    "\n",
    "\n",
    "- Sigmoid - for output layer\n",
    "\n",
    "- Other places - tanh  - -  canculate a mean of 0 and  center the data\n",
    "- Relu - Solves Vanishing gradients  - - best for hidden layer"
   ]
  },
  {
   "cell_type": "code",
   "execution_count": 17,
   "id": "95e42ed5",
   "metadata": {},
   "outputs": [],
   "source": [
    "import math\n",
    "\n",
    "def sigmoid(x):\n",
    "    return 1/(1+math.exp(-x))\n",
    "\n",
    "def tanh(x):\n",
    "    return (math.exp(x) -  math.exp(-x)) / (math.exp(x) + math.exp(-x))\n",
    "\n",
    "def relu(x):\n",
    "    return max(x,0)\n",
    "\n",
    "def leaky_relu(x):\n",
    "    return max(0.1*x,x)"
   ]
  },
  {
   "cell_type": "markdown",
   "id": "e84a9568",
   "metadata": {},
   "source": [
    "#### - change in derivate going to near zero in vanishing gradient problem"
   ]
  },
  {
   "cell_type": "code",
   "execution_count": 18,
   "id": "e8912b4b",
   "metadata": {},
   "outputs": [
    {
     "name": "stdout",
     "output_type": "stream",
     "text": [
      "1.0 0.7310585786300049 0.2689414213699951\n"
     ]
    }
   ],
   "source": [
    "print(sigmoid(100), sigmoid(1), sigmoid(-1))"
   ]
  },
  {
   "cell_type": "code",
   "execution_count": 19,
   "id": "1bd645ae",
   "metadata": {},
   "outputs": [
    {
     "name": "stdout",
     "output_type": "stream",
     "text": [
      "1.0 0.7615941559557649 -0.7615941559557649\n"
     ]
    }
   ],
   "source": [
    "print(tanh(100), tanh(1), tanh(-1))"
   ]
  },
  {
   "cell_type": "code",
   "execution_count": 20,
   "id": "e848cea1",
   "metadata": {},
   "outputs": [
    {
     "data": {
      "text/plain": [
       "0.00999966667999938"
      ]
     },
     "execution_count": 20,
     "metadata": {},
     "output_type": "execute_result"
    }
   ],
   "source": [
    "tanh(0.01)"
   ]
  },
  {
   "cell_type": "code",
   "execution_count": 21,
   "id": "6cfb2503",
   "metadata": {},
   "outputs": [
    {
     "name": "stdout",
     "output_type": "stream",
     "text": [
      "100 1 0\n"
     ]
    }
   ],
   "source": [
    "print(relu(100), relu(1), relu(-1))"
   ]
  },
  {
   "cell_type": "code",
   "execution_count": 22,
   "id": "9725153c",
   "metadata": {},
   "outputs": [
    {
     "name": "stdout",
     "output_type": "stream",
     "text": [
      "100 1 -0.1\n"
     ]
    }
   ],
   "source": [
    "print(leaky_relu(100), leaky_relu(1), leaky_relu(-1))"
   ]
  },
  {
   "cell_type": "code",
   "execution_count": null,
   "id": "d66ce188",
   "metadata": {},
   "outputs": [],
   "source": []
  }
 ],
 "metadata": {
  "kernelspec": {
   "display_name": "Python 3 (ipykernel)",
   "language": "python",
   "name": "python3"
  },
  "language_info": {
   "codemirror_mode": {
    "name": "ipython",
    "version": 3
   },
   "file_extension": ".py",
   "mimetype": "text/x-python",
   "name": "python",
   "nbconvert_exporter": "python",
   "pygments_lexer": "ipython3",
   "version": "3.7.3"
  }
 },
 "nbformat": 4,
 "nbformat_minor": 5
}
